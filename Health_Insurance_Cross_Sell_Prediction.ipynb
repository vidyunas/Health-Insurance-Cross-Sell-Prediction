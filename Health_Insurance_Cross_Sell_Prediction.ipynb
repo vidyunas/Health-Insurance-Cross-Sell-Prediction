{
  "nbformat": 4,
  "nbformat_minor": 0,
  "metadata": {
    "colab": {
      "provenance": []
    },
    "kernelspec": {
      "name": "python3",
      "display_name": "Python 3"
    },
    "language_info": {
      "name": "python"
    }
  },
  "cells": [
    {
      "cell_type": "markdown",
      "source": [
        "Importing Necessary libraries\n"
      ],
      "metadata": {
        "id": "deOhivM3Uua3"
      }
    },
    {
      "cell_type": "code",
      "source": [
        "! pip install kaggle\n",
        "! mkdir ~/.kaggle\n",
        "! cp kaggle.json ~/.kaggle/\n",
        "! chmod 600 ~/.kaggle/kaggle.json"
      ],
      "metadata": {
        "colab": {
          "base_uri": "https://localhost:8080/"
        },
        "id": "Y0ySKkxBqq94",
        "outputId": "d6cfd8fb-6c87-43cc-faa9-f442d5790eef"
      },
      "execution_count": 2,
      "outputs": [
        {
          "output_type": "stream",
          "name": "stdout",
          "text": [
            "Looking in indexes: https://pypi.org/simple, https://us-python.pkg.dev/colab-wheels/public/simple/\n",
            "Requirement already satisfied: kaggle in /usr/local/lib/python3.8/dist-packages (1.5.12)\n",
            "Requirement already satisfied: python-slugify in /usr/local/lib/python3.8/dist-packages (from kaggle) (8.0.1)\n",
            "Requirement already satisfied: certifi in /usr/local/lib/python3.8/dist-packages (from kaggle) (2022.12.7)\n",
            "Requirement already satisfied: requests in /usr/local/lib/python3.8/dist-packages (from kaggle) (2.25.1)\n",
            "Requirement already satisfied: urllib3 in /usr/local/lib/python3.8/dist-packages (from kaggle) (1.26.14)\n",
            "Requirement already satisfied: tqdm in /usr/local/lib/python3.8/dist-packages (from kaggle) (4.64.1)\n",
            "Requirement already satisfied: python-dateutil in /usr/local/lib/python3.8/dist-packages (from kaggle) (2.8.2)\n",
            "Requirement already satisfied: six>=1.10 in /usr/local/lib/python3.8/dist-packages (from kaggle) (1.15.0)\n",
            "Requirement already satisfied: text-unidecode>=1.3 in /usr/local/lib/python3.8/dist-packages (from python-slugify->kaggle) (1.3)\n",
            "Requirement already satisfied: chardet<5,>=3.0.2 in /usr/local/lib/python3.8/dist-packages (from requests->kaggle) (4.0.0)\n",
            "Requirement already satisfied: idna<3,>=2.5 in /usr/local/lib/python3.8/dist-packages (from requests->kaggle) (2.10)\n"
          ]
        }
      ]
    },
    {
      "cell_type": "code",
      "execution_count": 3,
      "metadata": {
        "id": "H17ywfs_qVBW"
      },
      "outputs": [],
      "source": [
        "import numpy as np\n",
        "import pandas as pd"
      ]
    },
    {
      "cell_type": "code",
      "source": [
        "!kaggle datasets download -d anmolkumar/health-insurance-cross-sell-prediction "
      ],
      "metadata": {
        "colab": {
          "base_uri": "https://localhost:8080/"
        },
        "id": "QT62UV3Cq3Zp",
        "outputId": "ed7e7d64-9134-4165-d14f-43396a8e8431"
      },
      "execution_count": 4,
      "outputs": [
        {
          "output_type": "stream",
          "name": "stdout",
          "text": [
            "Downloading health-insurance-cross-sell-prediction.zip to /content\n",
            " 62% 4.00M/6.47M [00:00<00:00, 6.06MB/s]\n",
            "100% 6.47M/6.47M [00:01<00:00, 6.67MB/s]\n"
          ]
        }
      ]
    },
    {
      "cell_type": "code",
      "source": [
        "!unzip /content/health-insurance-cross-sell-prediction.zip"
      ],
      "metadata": {
        "colab": {
          "base_uri": "https://localhost:8080/"
        },
        "id": "_fVBDlzCrNAl",
        "outputId": "2a5bd6fb-0dd1-44ca-82b0-3fa8a88ad8a9"
      },
      "execution_count": 5,
      "outputs": [
        {
          "output_type": "stream",
          "name": "stdout",
          "text": [
            "Archive:  /content/health-insurance-cross-sell-prediction.zip\n",
            "  inflating: sample_submission.csv   \n",
            "  inflating: test.csv                \n",
            "  inflating: train.csv               \n"
          ]
        }
      ]
    },
    {
      "cell_type": "markdown",
      "source": [
        "Reading the Dataset\n"
      ],
      "metadata": {
        "id": "yViAoXJaWmJO"
      }
    },
    {
      "cell_type": "code",
      "source": [
        "train=pd.read_csv(\"train.csv\")\n",
        "train"
      ],
      "metadata": {
        "colab": {
          "base_uri": "https://localhost:8080/",
          "height": 487
        },
        "id": "3EWR1fi0rbCj",
        "outputId": "6a94fa60-1b22-4077-8039-39b84afa95de"
      },
      "execution_count": 49,
      "outputs": [
        {
          "output_type": "execute_result",
          "data": {
            "text/plain": [
              "            id  Gender  Age  Driving_License  Region_Code  Previously_Insured  \\\n",
              "0            1    Male   44                1         28.0                   0   \n",
              "1            2    Male   76                1          3.0                   0   \n",
              "2            3    Male   47                1         28.0                   0   \n",
              "3            4    Male   21                1         11.0                   1   \n",
              "4            5  Female   29                1         41.0                   1   \n",
              "...        ...     ...  ...              ...          ...                 ...   \n",
              "381104  381105    Male   74                1         26.0                   1   \n",
              "381105  381106    Male   30                1         37.0                   1   \n",
              "381106  381107    Male   21                1         30.0                   1   \n",
              "381107  381108  Female   68                1         14.0                   0   \n",
              "381108  381109    Male   46                1         29.0                   0   \n",
              "\n",
              "       Vehicle_Age Vehicle_Damage  Annual_Premium  Policy_Sales_Channel  \\\n",
              "0        > 2 Years            Yes         40454.0                  26.0   \n",
              "1         1-2 Year             No         33536.0                  26.0   \n",
              "2        > 2 Years            Yes         38294.0                  26.0   \n",
              "3         < 1 Year             No         28619.0                 152.0   \n",
              "4         < 1 Year             No         27496.0                 152.0   \n",
              "...            ...            ...             ...                   ...   \n",
              "381104    1-2 Year             No         30170.0                  26.0   \n",
              "381105    < 1 Year             No         40016.0                 152.0   \n",
              "381106    < 1 Year             No         35118.0                 160.0   \n",
              "381107   > 2 Years            Yes         44617.0                 124.0   \n",
              "381108    1-2 Year             No         41777.0                  26.0   \n",
              "\n",
              "        Vintage  Response  \n",
              "0           217         1  \n",
              "1           183         0  \n",
              "2            27         1  \n",
              "3           203         0  \n",
              "4            39         0  \n",
              "...         ...       ...  \n",
              "381104       88         0  \n",
              "381105      131         0  \n",
              "381106      161         0  \n",
              "381107       74         0  \n",
              "381108      237         0  \n",
              "\n",
              "[381109 rows x 12 columns]"
            ],
            "text/html": [
              "\n",
              "  <div id=\"df-41211d55-e6df-4228-9f37-67261d77b717\">\n",
              "    <div class=\"colab-df-container\">\n",
              "      <div>\n",
              "<style scoped>\n",
              "    .dataframe tbody tr th:only-of-type {\n",
              "        vertical-align: middle;\n",
              "    }\n",
              "\n",
              "    .dataframe tbody tr th {\n",
              "        vertical-align: top;\n",
              "    }\n",
              "\n",
              "    .dataframe thead th {\n",
              "        text-align: right;\n",
              "    }\n",
              "</style>\n",
              "<table border=\"1\" class=\"dataframe\">\n",
              "  <thead>\n",
              "    <tr style=\"text-align: right;\">\n",
              "      <th></th>\n",
              "      <th>id</th>\n",
              "      <th>Gender</th>\n",
              "      <th>Age</th>\n",
              "      <th>Driving_License</th>\n",
              "      <th>Region_Code</th>\n",
              "      <th>Previously_Insured</th>\n",
              "      <th>Vehicle_Age</th>\n",
              "      <th>Vehicle_Damage</th>\n",
              "      <th>Annual_Premium</th>\n",
              "      <th>Policy_Sales_Channel</th>\n",
              "      <th>Vintage</th>\n",
              "      <th>Response</th>\n",
              "    </tr>\n",
              "  </thead>\n",
              "  <tbody>\n",
              "    <tr>\n",
              "      <th>0</th>\n",
              "      <td>1</td>\n",
              "      <td>Male</td>\n",
              "      <td>44</td>\n",
              "      <td>1</td>\n",
              "      <td>28.0</td>\n",
              "      <td>0</td>\n",
              "      <td>&gt; 2 Years</td>\n",
              "      <td>Yes</td>\n",
              "      <td>40454.0</td>\n",
              "      <td>26.0</td>\n",
              "      <td>217</td>\n",
              "      <td>1</td>\n",
              "    </tr>\n",
              "    <tr>\n",
              "      <th>1</th>\n",
              "      <td>2</td>\n",
              "      <td>Male</td>\n",
              "      <td>76</td>\n",
              "      <td>1</td>\n",
              "      <td>3.0</td>\n",
              "      <td>0</td>\n",
              "      <td>1-2 Year</td>\n",
              "      <td>No</td>\n",
              "      <td>33536.0</td>\n",
              "      <td>26.0</td>\n",
              "      <td>183</td>\n",
              "      <td>0</td>\n",
              "    </tr>\n",
              "    <tr>\n",
              "      <th>2</th>\n",
              "      <td>3</td>\n",
              "      <td>Male</td>\n",
              "      <td>47</td>\n",
              "      <td>1</td>\n",
              "      <td>28.0</td>\n",
              "      <td>0</td>\n",
              "      <td>&gt; 2 Years</td>\n",
              "      <td>Yes</td>\n",
              "      <td>38294.0</td>\n",
              "      <td>26.0</td>\n",
              "      <td>27</td>\n",
              "      <td>1</td>\n",
              "    </tr>\n",
              "    <tr>\n",
              "      <th>3</th>\n",
              "      <td>4</td>\n",
              "      <td>Male</td>\n",
              "      <td>21</td>\n",
              "      <td>1</td>\n",
              "      <td>11.0</td>\n",
              "      <td>1</td>\n",
              "      <td>&lt; 1 Year</td>\n",
              "      <td>No</td>\n",
              "      <td>28619.0</td>\n",
              "      <td>152.0</td>\n",
              "      <td>203</td>\n",
              "      <td>0</td>\n",
              "    </tr>\n",
              "    <tr>\n",
              "      <th>4</th>\n",
              "      <td>5</td>\n",
              "      <td>Female</td>\n",
              "      <td>29</td>\n",
              "      <td>1</td>\n",
              "      <td>41.0</td>\n",
              "      <td>1</td>\n",
              "      <td>&lt; 1 Year</td>\n",
              "      <td>No</td>\n",
              "      <td>27496.0</td>\n",
              "      <td>152.0</td>\n",
              "      <td>39</td>\n",
              "      <td>0</td>\n",
              "    </tr>\n",
              "    <tr>\n",
              "      <th>...</th>\n",
              "      <td>...</td>\n",
              "      <td>...</td>\n",
              "      <td>...</td>\n",
              "      <td>...</td>\n",
              "      <td>...</td>\n",
              "      <td>...</td>\n",
              "      <td>...</td>\n",
              "      <td>...</td>\n",
              "      <td>...</td>\n",
              "      <td>...</td>\n",
              "      <td>...</td>\n",
              "      <td>...</td>\n",
              "    </tr>\n",
              "    <tr>\n",
              "      <th>381104</th>\n",
              "      <td>381105</td>\n",
              "      <td>Male</td>\n",
              "      <td>74</td>\n",
              "      <td>1</td>\n",
              "      <td>26.0</td>\n",
              "      <td>1</td>\n",
              "      <td>1-2 Year</td>\n",
              "      <td>No</td>\n",
              "      <td>30170.0</td>\n",
              "      <td>26.0</td>\n",
              "      <td>88</td>\n",
              "      <td>0</td>\n",
              "    </tr>\n",
              "    <tr>\n",
              "      <th>381105</th>\n",
              "      <td>381106</td>\n",
              "      <td>Male</td>\n",
              "      <td>30</td>\n",
              "      <td>1</td>\n",
              "      <td>37.0</td>\n",
              "      <td>1</td>\n",
              "      <td>&lt; 1 Year</td>\n",
              "      <td>No</td>\n",
              "      <td>40016.0</td>\n",
              "      <td>152.0</td>\n",
              "      <td>131</td>\n",
              "      <td>0</td>\n",
              "    </tr>\n",
              "    <tr>\n",
              "      <th>381106</th>\n",
              "      <td>381107</td>\n",
              "      <td>Male</td>\n",
              "      <td>21</td>\n",
              "      <td>1</td>\n",
              "      <td>30.0</td>\n",
              "      <td>1</td>\n",
              "      <td>&lt; 1 Year</td>\n",
              "      <td>No</td>\n",
              "      <td>35118.0</td>\n",
              "      <td>160.0</td>\n",
              "      <td>161</td>\n",
              "      <td>0</td>\n",
              "    </tr>\n",
              "    <tr>\n",
              "      <th>381107</th>\n",
              "      <td>381108</td>\n",
              "      <td>Female</td>\n",
              "      <td>68</td>\n",
              "      <td>1</td>\n",
              "      <td>14.0</td>\n",
              "      <td>0</td>\n",
              "      <td>&gt; 2 Years</td>\n",
              "      <td>Yes</td>\n",
              "      <td>44617.0</td>\n",
              "      <td>124.0</td>\n",
              "      <td>74</td>\n",
              "      <td>0</td>\n",
              "    </tr>\n",
              "    <tr>\n",
              "      <th>381108</th>\n",
              "      <td>381109</td>\n",
              "      <td>Male</td>\n",
              "      <td>46</td>\n",
              "      <td>1</td>\n",
              "      <td>29.0</td>\n",
              "      <td>0</td>\n",
              "      <td>1-2 Year</td>\n",
              "      <td>No</td>\n",
              "      <td>41777.0</td>\n",
              "      <td>26.0</td>\n",
              "      <td>237</td>\n",
              "      <td>0</td>\n",
              "    </tr>\n",
              "  </tbody>\n",
              "</table>\n",
              "<p>381109 rows × 12 columns</p>\n",
              "</div>\n",
              "      <button class=\"colab-df-convert\" onclick=\"convertToInteractive('df-41211d55-e6df-4228-9f37-67261d77b717')\"\n",
              "              title=\"Convert this dataframe to an interactive table.\"\n",
              "              style=\"display:none;\">\n",
              "        \n",
              "  <svg xmlns=\"http://www.w3.org/2000/svg\" height=\"24px\"viewBox=\"0 0 24 24\"\n",
              "       width=\"24px\">\n",
              "    <path d=\"M0 0h24v24H0V0z\" fill=\"none\"/>\n",
              "    <path d=\"M18.56 5.44l.94 2.06.94-2.06 2.06-.94-2.06-.94-.94-2.06-.94 2.06-2.06.94zm-11 1L8.5 8.5l.94-2.06 2.06-.94-2.06-.94L8.5 2.5l-.94 2.06-2.06.94zm10 10l.94 2.06.94-2.06 2.06-.94-2.06-.94-.94-2.06-.94 2.06-2.06.94z\"/><path d=\"M17.41 7.96l-1.37-1.37c-.4-.4-.92-.59-1.43-.59-.52 0-1.04.2-1.43.59L10.3 9.45l-7.72 7.72c-.78.78-.78 2.05 0 2.83L4 21.41c.39.39.9.59 1.41.59.51 0 1.02-.2 1.41-.59l7.78-7.78 2.81-2.81c.8-.78.8-2.07 0-2.86zM5.41 20L4 18.59l7.72-7.72 1.47 1.35L5.41 20z\"/>\n",
              "  </svg>\n",
              "      </button>\n",
              "      \n",
              "  <style>\n",
              "    .colab-df-container {\n",
              "      display:flex;\n",
              "      flex-wrap:wrap;\n",
              "      gap: 12px;\n",
              "    }\n",
              "\n",
              "    .colab-df-convert {\n",
              "      background-color: #E8F0FE;\n",
              "      border: none;\n",
              "      border-radius: 50%;\n",
              "      cursor: pointer;\n",
              "      display: none;\n",
              "      fill: #1967D2;\n",
              "      height: 32px;\n",
              "      padding: 0 0 0 0;\n",
              "      width: 32px;\n",
              "    }\n",
              "\n",
              "    .colab-df-convert:hover {\n",
              "      background-color: #E2EBFA;\n",
              "      box-shadow: 0px 1px 2px rgba(60, 64, 67, 0.3), 0px 1px 3px 1px rgba(60, 64, 67, 0.15);\n",
              "      fill: #174EA6;\n",
              "    }\n",
              "\n",
              "    [theme=dark] .colab-df-convert {\n",
              "      background-color: #3B4455;\n",
              "      fill: #D2E3FC;\n",
              "    }\n",
              "\n",
              "    [theme=dark] .colab-df-convert:hover {\n",
              "      background-color: #434B5C;\n",
              "      box-shadow: 0px 1px 3px 1px rgba(0, 0, 0, 0.15);\n",
              "      filter: drop-shadow(0px 1px 2px rgba(0, 0, 0, 0.3));\n",
              "      fill: #FFFFFF;\n",
              "    }\n",
              "  </style>\n",
              "\n",
              "      <script>\n",
              "        const buttonEl =\n",
              "          document.querySelector('#df-41211d55-e6df-4228-9f37-67261d77b717 button.colab-df-convert');\n",
              "        buttonEl.style.display =\n",
              "          google.colab.kernel.accessAllowed ? 'block' : 'none';\n",
              "\n",
              "        async function convertToInteractive(key) {\n",
              "          const element = document.querySelector('#df-41211d55-e6df-4228-9f37-67261d77b717');\n",
              "          const dataTable =\n",
              "            await google.colab.kernel.invokeFunction('convertToInteractive',\n",
              "                                                     [key], {});\n",
              "          if (!dataTable) return;\n",
              "\n",
              "          const docLinkHtml = 'Like what you see? Visit the ' +\n",
              "            '<a target=\"_blank\" href=https://colab.research.google.com/notebooks/data_table.ipynb>data table notebook</a>'\n",
              "            + ' to learn more about interactive tables.';\n",
              "          element.innerHTML = '';\n",
              "          dataTable['output_type'] = 'display_data';\n",
              "          await google.colab.output.renderOutput(dataTable, element);\n",
              "          const docLink = document.createElement('div');\n",
              "          docLink.innerHTML = docLinkHtml;\n",
              "          element.appendChild(docLink);\n",
              "        }\n",
              "      </script>\n",
              "    </div>\n",
              "  </div>\n",
              "  "
            ]
          },
          "metadata": {},
          "execution_count": 49
        }
      ]
    },
    {
      "cell_type": "markdown",
      "source": [
        "Checking for missing values\n"
      ],
      "metadata": {
        "id": "6SRDVkPoWpDz"
      }
    },
    {
      "cell_type": "code",
      "source": [
        "train.isnull().sum()"
      ],
      "metadata": {
        "colab": {
          "base_uri": "https://localhost:8080/"
        },
        "id": "T9USLj5Brmhc",
        "outputId": "3c297fd8-83b9-49a5-9cda-a9f1fd9200ca"
      },
      "execution_count": 50,
      "outputs": [
        {
          "output_type": "execute_result",
          "data": {
            "text/plain": [
              "id                      0\n",
              "Gender                  0\n",
              "Age                     0\n",
              "Driving_License         0\n",
              "Region_Code             0\n",
              "Previously_Insured      0\n",
              "Vehicle_Age             0\n",
              "Vehicle_Damage          0\n",
              "Annual_Premium          0\n",
              "Policy_Sales_Channel    0\n",
              "Vintage                 0\n",
              "Response                0\n",
              "dtype: int64"
            ]
          },
          "metadata": {},
          "execution_count": 50
        }
      ]
    },
    {
      "cell_type": "markdown",
      "source": [
        "Checking for unique values"
      ],
      "metadata": {
        "id": "ZzYYaTaUWsSp"
      }
    },
    {
      "cell_type": "code",
      "source": [
        "for i in train.columns:\n",
        "  print(\"No of Unique values in \",i,\" - \",len(np.unique(train[i])))"
      ],
      "metadata": {
        "colab": {
          "base_uri": "https://localhost:8080/"
        },
        "id": "FSxY80sRsTqr",
        "outputId": "ab97d180-6422-4800-b6e3-92330d92c953"
      },
      "execution_count": 51,
      "outputs": [
        {
          "output_type": "stream",
          "name": "stdout",
          "text": [
            "No of Unique values in  id  -  381109\n",
            "No of Unique values in  Gender  -  2\n",
            "No of Unique values in  Age  -  66\n",
            "No of Unique values in  Driving_License  -  2\n",
            "No of Unique values in  Region_Code  -  53\n",
            "No of Unique values in  Previously_Insured  -  2\n",
            "No of Unique values in  Vehicle_Age  -  3\n",
            "No of Unique values in  Vehicle_Damage  -  2\n",
            "No of Unique values in  Annual_Premium  -  48838\n",
            "No of Unique values in  Policy_Sales_Channel  -  155\n",
            "No of Unique values in  Vintage  -  290\n",
            "No of Unique values in  Response  -  2\n"
          ]
        }
      ]
    },
    {
      "cell_type": "markdown",
      "source": [
        "Dropping unnecessary columns"
      ],
      "metadata": {
        "id": "4xr9FBGpWvlA"
      }
    },
    {
      "cell_type": "code",
      "source": [
        "train=train.drop(['id'],axis=1)"
      ],
      "metadata": {
        "id": "GOtTMsNLswYj"
      },
      "execution_count": 52,
      "outputs": []
    },
    {
      "cell_type": "markdown",
      "source": [
        "Univariate Analysis"
      ],
      "metadata": {
        "id": "ir5gs1UhWzMz"
      }
    },
    {
      "cell_type": "markdown",
      "source": [
        "Gender column"
      ],
      "metadata": {
        "id": "YU4E8j0BW2IB"
      }
    },
    {
      "cell_type": "code",
      "source": [
        "train['Gender'].value_counts()"
      ],
      "metadata": {
        "colab": {
          "base_uri": "https://localhost:8080/"
        },
        "id": "4q8h7VtstNzL",
        "outputId": "d99e5389-fb4d-47cd-8e4f-5c9da94a60da"
      },
      "execution_count": 53,
      "outputs": [
        {
          "output_type": "execute_result",
          "data": {
            "text/plain": [
              "Male      206089\n",
              "Female    175020\n",
              "Name: Gender, dtype: int64"
            ]
          },
          "metadata": {},
          "execution_count": 53
        }
      ]
    },
    {
      "cell_type": "code",
      "source": [
        "import matplotlib.pyplot as plt\n",
        "x = list(train['Gender'].value_counts().index)\n",
        "y = list(train['Gender'].value_counts().values)\n",
        "fig = plt.figure(figsize = (10, 5))\n",
        "plt.bar(x, y, width = 0.4)\n"
      ],
      "metadata": {
        "colab": {
          "base_uri": "https://localhost:8080/",
          "height": 337
        },
        "id": "B7Ayy3HCt0QG",
        "outputId": "84c31dd3-e5ef-430a-b138-c0db8a62b379"
      },
      "execution_count": 54,
      "outputs": [
        {
          "output_type": "execute_result",
          "data": {
            "text/plain": [
              "<BarContainer object of 2 artists>"
            ]
          },
          "metadata": {},
          "execution_count": 54
        },
        {
          "output_type": "display_data",
          "data": {
            "text/plain": [
              "<Figure size 720x360 with 1 Axes>"
            ],
            "image/png": "[encoded data removed]"
          },
          "metadata": {
            "needs_background": "light"
          }
        }
      ]
    },
    {
      "cell_type": "code",
      "source": [
        "train[\"Gender\"] = np.where(train[\"Gender\"] == \"Male\", 1,0)"
      ],
      "metadata": {
        "id": "QJPhKnroZA_a"
      },
      "execution_count": 55,
      "outputs": []
    },
    {
      "cell_type": "markdown",
      "source": [
        "Age Column Univariate Analysis"
      ],
      "metadata": {
        "id": "xAeyZTJ0W5qR"
      }
    },
    {
      "cell_type": "code",
      "source": [
        "x = list(train['Age'].value_counts().index)\n",
        "y = list(train['Age'].value_counts().values)\n",
        "fig = plt.figure(figsize = (10, 5))\n",
        "plt.bar(x, y, width = 0.4)"
      ],
      "metadata": {
        "colab": {
          "base_uri": "https://localhost:8080/",
          "height": 337
        },
        "id": "foTLE0bauQ9q",
        "outputId": "b550a1d0-e423-4a5b-a0c2-d26783a4df8a"
      },
      "execution_count": 56,
      "outputs": [
        {
          "output_type": "execute_result",
          "data": {
            "text/plain": [
              "<BarContainer object of 66 artists>"
            ]
          },
          "metadata": {},
          "execution_count": 56
        },
        {
          "output_type": "display_data",
          "data": {
            "text/plain": [
              "<Figure size 720x360 with 1 Axes>"
            ],
            "image/png": "[encoded data removed]"
          },
          "metadata": {
            "needs_background": "light"
          }
        }
      ]
    },
    {
      "cell_type": "markdown",
      "source": [
        "Since we see 3 different sets of distribution, we bin the groups based on normal distribution\n"
      ],
      "metadata": {
        "id": "luNPqdEWXB8P"
      }
    },
    {
      "cell_type": "code",
      "source": [
        "train[\"Age\"] = np.where(train[\"Age\"] <= 32, 1, train[\"Age\"])\n",
        "train.loc[(train[\"Age\"] > 32) & (train[\"Age\"] < 55), \"Age\"] = 2\n",
        "\n",
        "train[\"Age\"] = np.where(train[\"Age\"] >= 55, 3, train[\"Age\"])\n"
      ],
      "metadata": {
        "id": "MsM-Yc1UCBvc"
      },
      "execution_count": 57,
      "outputs": []
    },
    {
      "cell_type": "markdown",
      "source": [
        "Region code Column Univariate Analysis"
      ],
      "metadata": {
        "id": "MiMTFY8tXNjb"
      }
    },
    {
      "cell_type": "code",
      "source": [
        "import seaborn as sns\n",
        "sns.distplot(train['Region_Code'], hist=False, kde=True) \n"
      ],
      "metadata": {
        "colab": {
          "base_uri": "https://localhost:8080/",
          "height": 352
        },
        "id": "mgtKkYJQ6KFS",
        "outputId": "c9c489e0-4cec-442b-f124-40b517f1e01e"
      },
      "execution_count": 58,
      "outputs": [
        {
          "output_type": "stream",
          "name": "stderr",
          "text": [
            "/usr/local/lib/python3.8/dist-packages/seaborn/distributions.py:2619: FutureWarning: `distplot` is a deprecated function and will be removed in a future version. Please adapt your code to use either `displot` (a figure-level function with similar flexibility) or `kdeplot` (an axes-level function for kernel density plots).\n",
            "  warnings.warn(msg, FutureWarning)\n"
          ]
        },
        {
          "output_type": "execute_result",
          "data": {
            "text/plain": [
              "<AxesSubplot:xlabel='Region_Code', ylabel='Density'>"
            ]
          },
          "metadata": {},
          "execution_count": 58
        },
        {
          "output_type": "display_data",
          "data": {
            "text/plain": [
              "<Figure size 432x288 with 1 Axes>"
            ],
            "image/png": "[encoded data removed]"
          },
          "metadata": {
            "needs_background": "light"
          }
        }
      ]
    },
    {
      "cell_type": "markdown",
      "source": [
        "We find mixed distribution and cannot be grouped\n"
      ],
      "metadata": {
        "id": "8B4o-JSOXRJG"
      }
    },
    {
      "cell_type": "markdown",
      "source": [
        "Previously Insured Column Univariate Analysis"
      ],
      "metadata": {
        "id": "OiQpTrTGXYN8"
      }
    },
    {
      "cell_type": "code",
      "source": [
        "import matplotlib.pyplot as plt\n",
        "x = list(train['Previously_Insured'].value_counts().index)\n",
        "y = list(train['Previously_Insured'].value_counts().values)\n",
        "fig = plt.figure(figsize = (10, 5))\n",
        "plt.bar(x, y, width = 0.4)\n"
      ],
      "metadata": {
        "colab": {
          "base_uri": "https://localhost:8080/",
          "height": 337
        },
        "id": "eYTS0eGTERex",
        "outputId": "c3509109-199a-4031-e01c-89d4ff58ae41"
      },
      "execution_count": 59,
      "outputs": [
        {
          "output_type": "execute_result",
          "data": {
            "text/plain": [
              "<BarContainer object of 2 artists>"
            ]
          },
          "metadata": {},
          "execution_count": 59
        },
        {
          "output_type": "display_data",
          "data": {
            "text/plain": [
              "<Figure size 720x360 with 1 Axes>"
            ],
            "image/png": "[encoded data removed]"
          },
          "metadata": {
            "needs_background": "light"
          }
        }
      ]
    },
    {
      "cell_type": "markdown",
      "source": [
        "Vehicle Age Column Univariate Analysis"
      ],
      "metadata": {
        "id": "SEe8vN1NXd2H"
      }
    },
    {
      "cell_type": "code",
      "source": [
        "import matplotlib.pyplot as plt\n",
        "x = list(train['Vehicle_Age'].value_counts().index)\n",
        "y = list(train['Vehicle_Age'].value_counts().values)\n",
        "fig = plt.figure(figsize = (10, 5))\n",
        "plt.bar(x, y, width = 0.4)\n"
      ],
      "metadata": {
        "colab": {
          "base_uri": "https://localhost:8080/",
          "height": 337
        },
        "id": "evx2UJC8GTdF",
        "outputId": "773f5b0c-94f0-44af-b0de-7385036902ec"
      },
      "execution_count": 60,
      "outputs": [
        {
          "output_type": "execute_result",
          "data": {
            "text/plain": [
              "<BarContainer object of 3 artists>"
            ]
          },
          "metadata": {},
          "execution_count": 60
        },
        {
          "output_type": "display_data",
          "data": {
            "text/plain": [
              "<Figure size 720x360 with 1 Axes>"
            ],
            "image/png": "[encoded data removed]"
          },
          "metadata": {
            "needs_background": "light"
          }
        }
      ]
    },
    {
      "cell_type": "markdown",
      "source": [
        "Converting the column into values since easy for model to understand"
      ],
      "metadata": {
        "id": "nThKHo5WXgd2"
      }
    },
    {
      "cell_type": "code",
      "source": [
        "train[\"Vehicle_Age\"] = np.where(train[\"Vehicle_Age\"]=='1-2 Year', 1.5, train[\"Vehicle_Age\"])\n",
        "train[\"Vehicle_Age\"] = np.where(train[\"Vehicle_Age\"]=='< 1 Year', 0.5, train[\"Vehicle_Age\"])\n",
        "train[\"Vehicle_Age\"] = np.where(train[\"Vehicle_Age\"]=='> 2 Years', 2.5, train[\"Vehicle_Age\"])\n"
      ],
      "metadata": {
        "id": "8AW1-DzEGZfv"
      },
      "execution_count": 61,
      "outputs": []
    },
    {
      "cell_type": "markdown",
      "source": [
        "Vehicle Damage Column Univariate Analysis"
      ],
      "metadata": {
        "id": "T_MJjhn4X-RX"
      }
    },
    {
      "cell_type": "code",
      "source": [
        "import matplotlib.pyplot as plt\n",
        "x = list(train['Vehicle_Damage'].value_counts().index)\n",
        "y = list(train['Vehicle_Damage'].value_counts().values)\n",
        "fig = plt.figure(figsize = (10, 5))\n",
        "plt.bar(x, y, width = 0.4)"
      ],
      "metadata": {
        "colab": {
          "base_uri": "https://localhost:8080/",
          "height": 338
        },
        "id": "r-23WBsaLXum",
        "outputId": "10486bf5-b65f-4a80-f26a-4a93830e08bc"
      },
      "execution_count": 62,
      "outputs": [
        {
          "output_type": "execute_result",
          "data": {
            "text/plain": [
              "<BarContainer object of 2 artists>"
            ]
          },
          "metadata": {},
          "execution_count": 62
        },
        {
          "output_type": "display_data",
          "data": {
            "text/plain": [
              "<Figure size 720x360 with 1 Axes>"
            ],
            "image/png": "[encoded data removed]"
          },
          "metadata": {
            "needs_background": "light"
          }
        }
      ]
    },
    {
      "cell_type": "markdown",
      "source": [
        "COnverting text to Number\n"
      ],
      "metadata": {
        "id": "PW4HGjXpZgYc"
      }
    },
    {
      "cell_type": "code",
      "source": [
        "train[\"Vehicle_Damage\"] = np.where(train[\"Vehicle_Damage\"] == 'Yes', 1, 0)"
      ],
      "metadata": {
        "id": "EgysqIQ1ZZc6"
      },
      "execution_count": 63,
      "outputs": []
    },
    {
      "cell_type": "markdown",
      "source": [
        "Annual Premium Calculate"
      ],
      "metadata": {
        "id": "NHaUoE8KZjw6"
      }
    },
    {
      "cell_type": "code",
      "source": [
        "sns.distplot(train['Annual_Premium'], hist=False, kde=True) "
      ],
      "metadata": {
        "colab": {
          "base_uri": "https://localhost:8080/",
          "height": 363
        },
        "id": "ggSBs3yMP8hr",
        "outputId": "c00e45a6-2095-4295-96d4-60dba2fe4c90"
      },
      "execution_count": 64,
      "outputs": [
        {
          "output_type": "stream",
          "name": "stderr",
          "text": [
            "/usr/local/lib/python3.8/dist-packages/seaborn/distributions.py:2619: FutureWarning: `distplot` is a deprecated function and will be removed in a future version. Please adapt your code to use either `displot` (a figure-level function with similar flexibility) or `kdeplot` (an axes-level function for kernel density plots).\n",
            "  warnings.warn(msg, FutureWarning)\n"
          ]
        },
        {
          "output_type": "execute_result",
          "data": {
            "text/plain": [
              "<AxesSubplot:xlabel='Annual_Premium', ylabel='Density'>"
            ]
          },
          "metadata": {},
          "execution_count": 64
        },
        {
          "output_type": "display_data",
          "data": {
            "text/plain": [
              "<Figure size 432x288 with 1 Axes>"
            ],
            "image/png": "[encoded data removed]"
          },
          "metadata": {
            "needs_background": "light"
          }
        }
      ]
    },
    {
      "cell_type": "code",
      "source": [
        "train[\"Annual_Premium\"].describe()"
      ],
      "metadata": {
        "colab": {
          "base_uri": "https://localhost:8080/"
        },
        "id": "_iunfSTPMhfy",
        "outputId": "fe9a2abb-aa62-4492-b1ae-169b45a4aae4"
      },
      "execution_count": 65,
      "outputs": [
        {
          "output_type": "execute_result",
          "data": {
            "text/plain": [
              "count    381109.000000\n",
              "mean      30564.389581\n",
              "std       17213.155057\n",
              "min        2630.000000\n",
              "25%       24405.000000\n",
              "50%       31669.000000\n",
              "75%       39400.000000\n",
              "max      540165.000000\n",
              "Name: Annual_Premium, dtype: float64"
            ]
          },
          "metadata": {},
          "execution_count": 65
        }
      ]
    },
    {
      "cell_type": "code",
      "source": [
        "sns.boxplot(train['Annual_Premium'])"
      ],
      "metadata": {
        "colab": {
          "base_uri": "https://localhost:8080/",
          "height": 352
        },
        "id": "iH6K5DLoNExN",
        "outputId": "95c276bb-d697-4030-b8e2-5aa3e56d0897"
      },
      "execution_count": 66,
      "outputs": [
        {
          "output_type": "stream",
          "name": "stderr",
          "text": [
            "/usr/local/lib/python3.8/dist-packages/seaborn/_decorators.py:36: FutureWarning: Pass the following variable as a keyword arg: x. From version 0.12, the only valid positional argument will be `data`, and passing other arguments without an explicit keyword will result in an error or misinterpretation.\n",
            "  warnings.warn(\n"
          ]
        },
        {
          "output_type": "execute_result",
          "data": {
            "text/plain": [
              "<AxesSubplot:xlabel='Annual_Premium'>"
            ]
          },
          "metadata": {},
          "execution_count": 66
        },
        {
          "output_type": "display_data",
          "data": {
            "text/plain": [
              "<Figure size 432x288 with 1 Axes>"
            ],
            "image/png": "[encoded data removed]"
          },
          "metadata": {
            "needs_background": "light"
          }
        }
      ]
    },
    {
      "cell_type": "markdown",
      "source": [
        "Policy Sales Channel Column Univariate Analysis"
      ],
      "metadata": {
        "id": "FPbrxONrZonX"
      }
    },
    {
      "cell_type": "code",
      "source": [
        "import matplotlib.pyplot as plt\n",
        "x = list(train['Policy_Sales_Channel'].value_counts().index)\n",
        "y = list(train['Policy_Sales_Channel'].value_counts().values)\n",
        "fig = plt.figure(figsize = (10, 5))\n",
        "plt.bar(x, y, width = 0.4)"
      ],
      "metadata": {
        "colab": {
          "base_uri": "https://localhost:8080/",
          "height": 338
        },
        "id": "mOzd-byORLgn",
        "outputId": "1550e96f-90a0-406a-8559-e292e313da8e"
      },
      "execution_count": 67,
      "outputs": [
        {
          "output_type": "execute_result",
          "data": {
            "text/plain": [
              "<BarContainer object of 155 artists>"
            ]
          },
          "metadata": {},
          "execution_count": 67
        },
        {
          "output_type": "display_data",
          "data": {
            "text/plain": [
              "<Figure size 720x360 with 1 Axes>"
            ],
            "image/png": "[encoded data removed]"
          },
          "metadata": {
            "needs_background": "light"
          }
        }
      ]
    },
    {
      "cell_type": "code",
      "source": [
        "sns.distplot(train['Policy_Sales_Channel'], hist=False, kde=True) "
      ],
      "metadata": {
        "colab": {
          "base_uri": "https://localhost:8080/",
          "height": 352
        },
        "id": "HMGx4-tFNNKW",
        "outputId": "abdedde8-a05a-4fe2-caaa-63198ed4b747"
      },
      "execution_count": 68,
      "outputs": [
        {
          "output_type": "stream",
          "name": "stderr",
          "text": [
            "/usr/local/lib/python3.8/dist-packages/seaborn/distributions.py:2619: FutureWarning: `distplot` is a deprecated function and will be removed in a future version. Please adapt your code to use either `displot` (a figure-level function with similar flexibility) or `kdeplot` (an axes-level function for kernel density plots).\n",
            "  warnings.warn(msg, FutureWarning)\n"
          ]
        },
        {
          "output_type": "execute_result",
          "data": {
            "text/plain": [
              "<AxesSubplot:xlabel='Policy_Sales_Channel', ylabel='Density'>"
            ]
          },
          "metadata": {},
          "execution_count": 68
        },
        {
          "output_type": "display_data",
          "data": {
            "text/plain": [
              "<Figure size 432x288 with 1 Axes>"
            ],
            "image/png": "[encoded data removed]"
          },
          "metadata": {
            "needs_background": "light"
          }
        }
      ]
    },
    {
      "cell_type": "markdown",
      "source": [
        "Looing at the distribution, we find 3 different types of channel"
      ],
      "metadata": {
        "id": "HKYqlSw0Zt4G"
      }
    },
    {
      "cell_type": "code",
      "source": [
        "train[\"Policy_Sales_Channel\"] = np.where(train[\"Policy_Sales_Channel\"] <= 75, 1, train[\"Policy_Sales_Channel\"])\n",
        "train.loc[(train[\"Policy_Sales_Channel\"] > 75) & (train[\"Policy_Sales_Channel\"] < 137), \"Policy_Sales_Channel\"] = 2\n",
        "\n",
        "train[\"Policy_Sales_Channel\"] = np.where(train[\"Policy_Sales_Channel\"] >= 137, 3, train[\"Policy_Sales_Channel\"])\n"
      ],
      "metadata": {
        "id": "xIk6Fs8WRren"
      },
      "execution_count": 69,
      "outputs": []
    },
    {
      "cell_type": "markdown",
      "source": [
        "Vintage Column Univariate Analysis"
      ],
      "metadata": {
        "id": "y5tL7ka1ZzS7"
      }
    },
    {
      "cell_type": "code",
      "source": [
        "sns.distplot(train['Vintage'], hist=False, kde=True) "
      ],
      "metadata": {
        "colab": {
          "base_uri": "https://localhost:8080/",
          "height": 351
        },
        "id": "mFBj9XSXLsud",
        "outputId": "f2811b00-6f0e-49cf-a168-f2ca0bf0f003"
      },
      "execution_count": 70,
      "outputs": [
        {
          "output_type": "stream",
          "name": "stderr",
          "text": [
            "/usr/local/lib/python3.8/dist-packages/seaborn/distributions.py:2619: FutureWarning: `distplot` is a deprecated function and will be removed in a future version. Please adapt your code to use either `displot` (a figure-level function with similar flexibility) or `kdeplot` (an axes-level function for kernel density plots).\n",
            "  warnings.warn(msg, FutureWarning)\n"
          ]
        },
        {
          "output_type": "execute_result",
          "data": {
            "text/plain": [
              "<AxesSubplot:xlabel='Vintage', ylabel='Density'>"
            ]
          },
          "metadata": {},
          "execution_count": 70
        },
        {
          "output_type": "display_data",
          "data": {
            "text/plain": [
              "<Figure size 432x288 with 1 Axes>"
            ],
            "image/png": "[encoded data removed]"
          },
          "metadata": {
            "needs_background": "light"
          }
        }
      ]
    },
    {
      "cell_type": "code",
      "source": [
        "train.dtypes"
      ],
      "metadata": {
        "colab": {
          "base_uri": "https://localhost:8080/"
        },
        "id": "BJOdCn0-alV6",
        "outputId": "e46a6600-1a61-4134-8e41-1506b918f928"
      },
      "execution_count": 71,
      "outputs": [
        {
          "output_type": "execute_result",
          "data": {
            "text/plain": [
              "Gender                    int64\n",
              "Age                       int64\n",
              "Driving_License           int64\n",
              "Region_Code             float64\n",
              "Previously_Insured        int64\n",
              "Vehicle_Age              object\n",
              "Vehicle_Damage            int64\n",
              "Annual_Premium          float64\n",
              "Policy_Sales_Channel    float64\n",
              "Vintage                   int64\n",
              "Response                  int64\n",
              "dtype: object"
            ]
          },
          "metadata": {},
          "execution_count": 71
        }
      ]
    },
    {
      "cell_type": "code",
      "source": [
        "train.corr()"
      ],
      "metadata": {
        "colab": {
          "base_uri": "https://localhost:8080/",
          "height": 427
        },
        "id": "0UNle5tXUWHt",
        "outputId": "8506b7bc-3c14-440f-cb75-b88de8c4f730"
      },
      "execution_count": 72,
      "outputs": [
        {
          "output_type": "execute_result",
          "data": {
            "text/plain": [
              "                        Gender       Age  Driving_License  Region_Code  \\\n",
              "Gender                1.000000  0.147865        -0.018374     0.000604   \n",
              "Age                   0.147865  1.000000        -0.069157     0.042931   \n",
              "Driving_License      -0.018374 -0.069157         1.000000    -0.001081   \n",
              "Region_Code           0.000604  0.042931        -0.001081     1.000000   \n",
              "Previously_Insured   -0.081932 -0.277727         0.014969    -0.024659   \n",
              "Vehicle_Damage        0.091606  0.289644        -0.016622     0.028235   \n",
              "Annual_Premium        0.003673  0.057902        -0.011906    -0.010588   \n",
              "Policy_Sales_Channel -0.140067 -0.658634         0.046278    -0.045222   \n",
              "Vintage              -0.002517 -0.001283        -0.000848    -0.002750   \n",
              "Response              0.052440  0.127483         0.010155     0.010570   \n",
              "\n",
              "                      Previously_Insured  Vehicle_Damage  Annual_Premium  \\\n",
              "Gender                         -0.081932        0.091606        0.003673   \n",
              "Age                            -0.277727        0.289644        0.057902   \n",
              "Driving_License                 0.014969       -0.016622       -0.011906   \n",
              "Region_Code                    -0.024659        0.028235       -0.010588   \n",
              "Previously_Insured              1.000000       -0.824143        0.004269   \n",
              "Vehicle_Damage                 -0.824143        1.000000        0.009349   \n",
              "Annual_Premium                  0.004269        0.009349        1.000000   \n",
              "Policy_Sales_Channel            0.276174       -0.283018       -0.126453   \n",
              "Vintage                         0.002537       -0.002064       -0.000608   \n",
              "Response                       -0.341170        0.354400        0.022575   \n",
              "\n",
              "                      Policy_Sales_Channel   Vintage  Response  \n",
              "Gender                           -0.140067 -0.002517  0.052440  \n",
              "Age                              -0.658634 -0.001283  0.127483  \n",
              "Driving_License                   0.046278 -0.000848  0.010155  \n",
              "Region_Code                      -0.045222 -0.002750  0.010570  \n",
              "Previously_Insured                0.276174  0.002537 -0.341170  \n",
              "Vehicle_Damage                   -0.283018 -0.002064  0.354400  \n",
              "Annual_Premium                   -0.126453 -0.000608  0.022575  \n",
              "Policy_Sales_Channel              1.000000  0.000967 -0.169712  \n",
              "Vintage                           0.000967  1.000000 -0.001050  \n",
              "Response                         -0.169712 -0.001050  1.000000  "
            ],
            "text/html": [
              "\n",
              "  <div id=\"df-00b68344-72b8-401e-a1a4-584c0ade9da0\">\n",
              "    <div class=\"colab-df-container\">\n",
              "      <div>\n",
              "<style scoped>\n",
              "    .dataframe tbody tr th:only-of-type {\n",
              "        vertical-align: middle;\n",
              "    }\n",
              "\n",
              "    .dataframe tbody tr th {\n",
              "        vertical-align: top;\n",
              "    }\n",
              "\n",
              "    .dataframe thead th {\n",
              "        text-align: right;\n",
              "    }\n",
              "</style>\n",
              "<table border=\"1\" class=\"dataframe\">\n",
              "  <thead>\n",
              "    <tr style=\"text-align: right;\">\n",
              "      <th></th>\n",
              "      <th>Gender</th>\n",
              "      <th>Age</th>\n",
              "      <th>Driving_License</th>\n",
              "      <th>Region_Code</th>\n",
              "      <th>Previously_Insured</th>\n",
              "      <th>Vehicle_Damage</th>\n",
              "      <th>Annual_Premium</th>\n",
              "      <th>Policy_Sales_Channel</th>\n",
              "      <th>Vintage</th>\n",
              "      <th>Response</th>\n",
              "    </tr>\n",
              "  </thead>\n",
              "  <tbody>\n",
              "    <tr>\n",
              "      <th>Gender</th>\n",
              "      <td>1.000000</td>\n",
              "      <td>0.147865</td>\n",
              "      <td>-0.018374</td>\n",
              "      <td>0.000604</td>\n",
              "      <td>-0.081932</td>\n",
              "      <td>0.091606</td>\n",
              "      <td>0.003673</td>\n",
              "      <td>-0.140067</td>\n",
              "      <td>-0.002517</td>\n",
              "      <td>0.052440</td>\n",
              "    </tr>\n",
              "    <tr>\n",
              "      <th>Age</th>\n",
              "      <td>0.147865</td>\n",
              "      <td>1.000000</td>\n",
              "      <td>-0.069157</td>\n",
              "      <td>0.042931</td>\n",
              "      <td>-0.277727</td>\n",
              "      <td>0.289644</td>\n",
              "      <td>0.057902</td>\n",
              "      <td>-0.658634</td>\n",
              "      <td>-0.001283</td>\n",
              "      <td>0.127483</td>\n",
              "    </tr>\n",
              "    <tr>\n",
              "      <th>Driving_License</th>\n",
              "      <td>-0.018374</td>\n",
              "      <td>-0.069157</td>\n",
              "      <td>1.000000</td>\n",
              "      <td>-0.001081</td>\n",
              "      <td>0.014969</td>\n",
              "      <td>-0.016622</td>\n",
              "      <td>-0.011906</td>\n",
              "      <td>0.046278</td>\n",
              "      <td>-0.000848</td>\n",
              "      <td>0.010155</td>\n",
              "    </tr>\n",
              "    <tr>\n",
              "      <th>Region_Code</th>\n",
              "      <td>0.000604</td>\n",
              "      <td>0.042931</td>\n",
              "      <td>-0.001081</td>\n",
              "      <td>1.000000</td>\n",
              "      <td>-0.024659</td>\n",
              "      <td>0.028235</td>\n",
              "      <td>-0.010588</td>\n",
              "      <td>-0.045222</td>\n",
              "      <td>-0.002750</td>\n",
              "      <td>0.010570</td>\n",
              "    </tr>\n",
              "    <tr>\n",
              "      <th>Previously_Insured</th>\n",
              "      <td>-0.081932</td>\n",
              "      <td>-0.277727</td>\n",
              "      <td>0.014969</td>\n",
              "      <td>-0.024659</td>\n",
              "      <td>1.000000</td>\n",
              "      <td>-0.824143</td>\n",
              "      <td>0.004269</td>\n",
              "      <td>0.276174</td>\n",
              "      <td>0.002537</td>\n",
              "      <td>-0.341170</td>\n",
              "    </tr>\n",
              "    <tr>\n",
              "      <th>Vehicle_Damage</th>\n",
              "      <td>0.091606</td>\n",
              "      <td>0.289644</td>\n",
              "      <td>-0.016622</td>\n",
              "      <td>0.028235</td>\n",
              "      <td>-0.824143</td>\n",
              "      <td>1.000000</td>\n",
              "      <td>0.009349</td>\n",
              "      <td>-0.283018</td>\n",
              "      <td>-0.002064</td>\n",
              "      <td>0.354400</td>\n",
              "    </tr>\n",
              "    <tr>\n",
              "      <th>Annual_Premium</th>\n",
              "      <td>0.003673</td>\n",
              "      <td>0.057902</td>\n",
              "      <td>-0.011906</td>\n",
              "      <td>-0.010588</td>\n",
              "      <td>0.004269</td>\n",
              "      <td>0.009349</td>\n",
              "      <td>1.000000</td>\n",
              "      <td>-0.126453</td>\n",
              "      <td>-0.000608</td>\n",
              "      <td>0.022575</td>\n",
              "    </tr>\n",
              "    <tr>\n",
              "      <th>Policy_Sales_Channel</th>\n",
              "      <td>-0.140067</td>\n",
              "      <td>-0.658634</td>\n",
              "      <td>0.046278</td>\n",
              "      <td>-0.045222</td>\n",
              "      <td>0.276174</td>\n",
              "      <td>-0.283018</td>\n",
              "      <td>-0.126453</td>\n",
              "      <td>1.000000</td>\n",
              "      <td>0.000967</td>\n",
              "      <td>-0.169712</td>\n",
              "    </tr>\n",
              "    <tr>\n",
              "      <th>Vintage</th>\n",
              "      <td>-0.002517</td>\n",
              "      <td>-0.001283</td>\n",
              "      <td>-0.000848</td>\n",
              "      <td>-0.002750</td>\n",
              "      <td>0.002537</td>\n",
              "      <td>-0.002064</td>\n",
              "      <td>-0.000608</td>\n",
              "      <td>0.000967</td>\n",
              "      <td>1.000000</td>\n",
              "      <td>-0.001050</td>\n",
              "    </tr>\n",
              "    <tr>\n",
              "      <th>Response</th>\n",
              "      <td>0.052440</td>\n",
              "      <td>0.127483</td>\n",
              "      <td>0.010155</td>\n",
              "      <td>0.010570</td>\n",
              "      <td>-0.341170</td>\n",
              "      <td>0.354400</td>\n",
              "      <td>0.022575</td>\n",
              "      <td>-0.169712</td>\n",
              "      <td>-0.001050</td>\n",
              "      <td>1.000000</td>\n",
              "    </tr>\n",
              "  </tbody>\n",
              "</table>\n",
              "</div>\n",
              "      <button class=\"colab-df-convert\" onclick=\"convertToInteractive('df-00b68344-72b8-401e-a1a4-584c0ade9da0')\"\n",
              "              title=\"Convert this dataframe to an interactive table.\"\n",
              "              style=\"display:none;\">\n",
              "        \n",
              "  <svg xmlns=\"http://www.w3.org/2000/svg\" height=\"24px\"viewBox=\"0 0 24 24\"\n",
              "       width=\"24px\">\n",
              "    <path d=\"M0 0h24v24H0V0z\" fill=\"none\"/>\n",
              "    <path d=\"M18.56 5.44l.94 2.06.94-2.06 2.06-.94-2.06-.94-.94-2.06-.94 2.06-2.06.94zm-11 1L8.5 8.5l.94-2.06 2.06-.94-2.06-.94L8.5 2.5l-.94 2.06-2.06.94zm10 10l.94 2.06.94-2.06 2.06-.94-2.06-.94-.94-2.06-.94 2.06-2.06.94z\"/><path d=\"M17.41 7.96l-1.37-1.37c-.4-.4-.92-.59-1.43-.59-.52 0-1.04.2-1.43.59L10.3 9.45l-7.72 7.72c-.78.78-.78 2.05 0 2.83L4 21.41c.39.39.9.59 1.41.59.51 0 1.02-.2 1.41-.59l7.78-7.78 2.81-2.81c.8-.78.8-2.07 0-2.86zM5.41 20L4 18.59l7.72-7.72 1.47 1.35L5.41 20z\"/>\n",
              "  </svg>\n",
              "      </button>\n",
              "      \n",
              "  <style>\n",
              "    .colab-df-container {\n",
              "      display:flex;\n",
              "      flex-wrap:wrap;\n",
              "      gap: 12px;\n",
              "    }\n",
              "\n",
              "    .colab-df-convert {\n",
              "      background-color: #E8F0FE;\n",
              "      border: none;\n",
              "      border-radius: 50%;\n",
              "      cursor: pointer;\n",
              "      display: none;\n",
              "      fill: #1967D2;\n",
              "      height: 32px;\n",
              "      padding: 0 0 0 0;\n",
              "      width: 32px;\n",
              "    }\n",
              "\n",
              "    .colab-df-convert:hover {\n",
              "      background-color: #E2EBFA;\n",
              "      box-shadow: 0px 1px 2px rgba(60, 64, 67, 0.3), 0px 1px 3px 1px rgba(60, 64, 67, 0.15);\n",
              "      fill: #174EA6;\n",
              "    }\n",
              "\n",
              "    [theme=dark] .colab-df-convert {\n",
              "      background-color: #3B4455;\n",
              "      fill: #D2E3FC;\n",
              "    }\n",
              "\n",
              "    [theme=dark] .colab-df-convert:hover {\n",
              "      background-color: #434B5C;\n",
              "      box-shadow: 0px 1px 3px 1px rgba(0, 0, 0, 0.15);\n",
              "      filter: drop-shadow(0px 1px 2px rgba(0, 0, 0, 0.3));\n",
              "      fill: #FFFFFF;\n",
              "    }\n",
              "  </style>\n",
              "\n",
              "      <script>\n",
              "        const buttonEl =\n",
              "          document.querySelector('#df-00b68344-72b8-401e-a1a4-584c0ade9da0 button.colab-df-convert');\n",
              "        buttonEl.style.display =\n",
              "          google.colab.kernel.accessAllowed ? 'block' : 'none';\n",
              "\n",
              "        async function convertToInteractive(key) {\n",
              "          const element = document.querySelector('#df-00b68344-72b8-401e-a1a4-584c0ade9da0');\n",
              "          const dataTable =\n",
              "            await google.colab.kernel.invokeFunction('convertToInteractive',\n",
              "                                                     [key], {});\n",
              "          if (!dataTable) return;\n",
              "\n",
              "          const docLinkHtml = 'Like what you see? Visit the ' +\n",
              "            '<a target=\"_blank\" href=https://colab.research.google.com/notebooks/data_table.ipynb>data table notebook</a>'\n",
              "            + ' to learn more about interactive tables.';\n",
              "          element.innerHTML = '';\n",
              "          dataTable['output_type'] = 'display_data';\n",
              "          await google.colab.output.renderOutput(dataTable, element);\n",
              "          const docLink = document.createElement('div');\n",
              "          docLink.innerHTML = docLinkHtml;\n",
              "          element.appendChild(docLink);\n",
              "        }\n",
              "      </script>\n",
              "    </div>\n",
              "  </div>\n",
              "  "
            ]
          },
          "metadata": {},
          "execution_count": 72
        }
      ]
    },
    {
      "cell_type": "code",
      "source": [
        "train[\"Policy_Sales_Channel\"]=train['Policy_Sales_Channel'].astype(str)\n",
        "train['Vehicle_Age']=train[\"Vehicle_Age\"].astype(float)\n",
        "train"
      ],
      "metadata": {
        "colab": {
          "base_uri": "https://localhost:8080/",
          "height": 487
        },
        "id": "1TgUDuxAUBID",
        "outputId": "9f62fdc6-a78a-4aa8-c561-56f5ba0c6b19"
      },
      "execution_count": 73,
      "outputs": [
        {
          "output_type": "execute_result",
          "data": {
            "text/plain": [
              "        Gender  Age  Driving_License  Region_Code  Previously_Insured  \\\n",
              "0            1    2                1         28.0                   0   \n",
              "1            1    3                1          3.0                   0   \n",
              "2            1    2                1         28.0                   0   \n",
              "3            1    1                1         11.0                   1   \n",
              "4            0    1                1         41.0                   1   \n",
              "...        ...  ...              ...          ...                 ...   \n",
              "381104       1    3                1         26.0                   1   \n",
              "381105       1    1                1         37.0                   1   \n",
              "381106       1    1                1         30.0                   1   \n",
              "381107       0    3                1         14.0                   0   \n",
              "381108       1    2                1         29.0                   0   \n",
              "\n",
              "        Vehicle_Age  Vehicle_Damage  Annual_Premium Policy_Sales_Channel  \\\n",
              "0               2.5               1         40454.0                  1.0   \n",
              "1               1.5               0         33536.0                  1.0   \n",
              "2               2.5               1         38294.0                  1.0   \n",
              "3               0.5               0         28619.0                  3.0   \n",
              "4               0.5               0         27496.0                  3.0   \n",
              "...             ...             ...             ...                  ...   \n",
              "381104          1.5               0         30170.0                  1.0   \n",
              "381105          0.5               0         40016.0                  3.0   \n",
              "381106          0.5               0         35118.0                  3.0   \n",
              "381107          2.5               1         44617.0                  2.0   \n",
              "381108          1.5               0         41777.0                  1.0   \n",
              "\n",
              "        Vintage  Response  \n",
              "0           217         1  \n",
              "1           183         0  \n",
              "2            27         1  \n",
              "3           203         0  \n",
              "4            39         0  \n",
              "...         ...       ...  \n",
              "381104       88         0  \n",
              "381105      131         0  \n",
              "381106      161         0  \n",
              "381107       74         0  \n",
              "381108      237         0  \n",
              "\n",
              "[381109 rows x 11 columns]"
            ],
            "text/html": [
              "\n",
              "  <div id=\"df-71a7e12f-6c2e-4b8f-891a-48350ce52198\">\n",
              "    <div class=\"colab-df-container\">\n",
              "      <div>\n",
              "<style scoped>\n",
              "    .dataframe tbody tr th:only-of-type {\n",
              "        vertical-align: middle;\n",
              "    }\n",
              "\n",
              "    .dataframe tbody tr th {\n",
              "        vertical-align: top;\n",
              "    }\n",
              "\n",
              "    .dataframe thead th {\n",
              "        text-align: right;\n",
              "    }\n",
              "</style>\n",
              "<table border=\"1\" class=\"dataframe\">\n",
              "  <thead>\n",
              "    <tr style=\"text-align: right;\">\n",
              "      <th></th>\n",
              "      <th>Gender</th>\n",
              "      <th>Age</th>\n",
              "      <th>Driving_License</th>\n",
              "      <th>Region_Code</th>\n",
              "      <th>Previously_Insured</th>\n",
              "      <th>Vehicle_Age</th>\n",
              "      <th>Vehicle_Damage</th>\n",
              "      <th>Annual_Premium</th>\n",
              "      <th>Policy_Sales_Channel</th>\n",
              "      <th>Vintage</th>\n",
              "      <th>Response</th>\n",
              "    </tr>\n",
              "  </thead>\n",
              "  <tbody>\n",
              "    <tr>\n",
              "      <th>0</th>\n",
              "      <td>1</td>\n",
              "      <td>2</td>\n",
              "      <td>1</td>\n",
              "      <td>28.0</td>\n",
              "      <td>0</td>\n",
              "      <td>2.5</td>\n",
              "      <td>1</td>\n",
              "      <td>40454.0</td>\n",
              "      <td>1.0</td>\n",
              "      <td>217</td>\n",
              "      <td>1</td>\n",
              "    </tr>\n",
              "    <tr>\n",
              "      <th>1</th>\n",
              "      <td>1</td>\n",
              "      <td>3</td>\n",
              "      <td>1</td>\n",
              "      <td>3.0</td>\n",
              "      <td>0</td>\n",
              "      <td>1.5</td>\n",
              "      <td>0</td>\n",
              "      <td>33536.0</td>\n",
              "      <td>1.0</td>\n",
              "      <td>183</td>\n",
              "      <td>0</td>\n",
              "    </tr>\n",
              "    <tr>\n",
              "      <th>2</th>\n",
              "      <td>1</td>\n",
              "      <td>2</td>\n",
              "      <td>1</td>\n",
              "      <td>28.0</td>\n",
              "      <td>0</td>\n",
              "      <td>2.5</td>\n",
              "      <td>1</td>\n",
              "      <td>38294.0</td>\n",
              "      <td>1.0</td>\n",
              "      <td>27</td>\n",
              "      <td>1</td>\n",
              "    </tr>\n",
              "    <tr>\n",
              "      <th>3</th>\n",
              "      <td>1</td>\n",
              "      <td>1</td>\n",
              "      <td>1</td>\n",
              "      <td>11.0</td>\n",
              "      <td>1</td>\n",
              "      <td>0.5</td>\n",
              "      <td>0</td>\n",
              "      <td>28619.0</td>\n",
              "      <td>3.0</td>\n",
              "      <td>203</td>\n",
              "      <td>0</td>\n",
              "    </tr>\n",
              "    <tr>\n",
              "      <th>4</th>\n",
              "      <td>0</td>\n",
              "      <td>1</td>\n",
              "      <td>1</td>\n",
              "      <td>41.0</td>\n",
              "      <td>1</td>\n",
              "      <td>0.5</td>\n",
              "      <td>0</td>\n",
              "      <td>27496.0</td>\n",
              "      <td>3.0</td>\n",
              "      <td>39</td>\n",
              "      <td>0</td>\n",
              "    </tr>\n",
              "    <tr>\n",
              "      <th>...</th>\n",
              "      <td>...</td>\n",
              "      <td>...</td>\n",
              "      <td>...</td>\n",
              "      <td>...</td>\n",
              "      <td>...</td>\n",
              "      <td>...</td>\n",
              "      <td>...</td>\n",
              "      <td>...</td>\n",
              "      <td>...</td>\n",
              "      <td>...</td>\n",
              "      <td>...</td>\n",
              "    </tr>\n",
              "    <tr>\n",
              "      <th>381104</th>\n",
              "      <td>1</td>\n",
              "      <td>3</td>\n",
              "      <td>1</td>\n",
              "      <td>26.0</td>\n",
              "      <td>1</td>\n",
              "      <td>1.5</td>\n",
              "      <td>0</td>\n",
              "      <td>30170.0</td>\n",
              "      <td>1.0</td>\n",
              "      <td>88</td>\n",
              "      <td>0</td>\n",
              "    </tr>\n",
              "    <tr>\n",
              "      <th>381105</th>\n",
              "      <td>1</td>\n",
              "      <td>1</td>\n",
              "      <td>1</td>\n",
              "      <td>37.0</td>\n",
              "      <td>1</td>\n",
              "      <td>0.5</td>\n",
              "      <td>0</td>\n",
              "      <td>40016.0</td>\n",
              "      <td>3.0</td>\n",
              "      <td>131</td>\n",
              "      <td>0</td>\n",
              "    </tr>\n",
              "    <tr>\n",
              "      <th>381106</th>\n",
              "      <td>1</td>\n",
              "      <td>1</td>\n",
              "      <td>1</td>\n",
              "      <td>30.0</td>\n",
              "      <td>1</td>\n",
              "      <td>0.5</td>\n",
              "      <td>0</td>\n",
              "      <td>35118.0</td>\n",
              "      <td>3.0</td>\n",
              "      <td>161</td>\n",
              "      <td>0</td>\n",
              "    </tr>\n",
              "    <tr>\n",
              "      <th>381107</th>\n",
              "      <td>0</td>\n",
              "      <td>3</td>\n",
              "      <td>1</td>\n",
              "      <td>14.0</td>\n",
              "      <td>0</td>\n",
              "      <td>2.5</td>\n",
              "      <td>1</td>\n",
              "      <td>44617.0</td>\n",
              "      <td>2.0</td>\n",
              "      <td>74</td>\n",
              "      <td>0</td>\n",
              "    </tr>\n",
              "    <tr>\n",
              "      <th>381108</th>\n",
              "      <td>1</td>\n",
              "      <td>2</td>\n",
              "      <td>1</td>\n",
              "      <td>29.0</td>\n",
              "      <td>0</td>\n",
              "      <td>1.5</td>\n",
              "      <td>0</td>\n",
              "      <td>41777.0</td>\n",
              "      <td>1.0</td>\n",
              "      <td>237</td>\n",
              "      <td>0</td>\n",
              "    </tr>\n",
              "  </tbody>\n",
              "</table>\n",
              "<p>381109 rows × 11 columns</p>\n",
              "</div>\n",
              "      <button class=\"colab-df-convert\" onclick=\"convertToInteractive('df-71a7e12f-6c2e-4b8f-891a-48350ce52198')\"\n",
              "              title=\"Convert this dataframe to an interactive table.\"\n",
              "              style=\"display:none;\">\n",
              "        \n",
              "  <svg xmlns=\"http://www.w3.org/2000/svg\" height=\"24px\"viewBox=\"0 0 24 24\"\n",
              "       width=\"24px\">\n",
              "    <path d=\"M0 0h24v24H0V0z\" fill=\"none\"/>\n",
              "    <path d=\"M18.56 5.44l.94 2.06.94-2.06 2.06-.94-2.06-.94-.94-2.06-.94 2.06-2.06.94zm-11 1L8.5 8.5l.94-2.06 2.06-.94-2.06-.94L8.5 2.5l-.94 2.06-2.06.94zm10 10l.94 2.06.94-2.06 2.06-.94-2.06-.94-.94-2.06-.94 2.06-2.06.94z\"/><path d=\"M17.41 7.96l-1.37-1.37c-.4-.4-.92-.59-1.43-.59-.52 0-1.04.2-1.43.59L10.3 9.45l-7.72 7.72c-.78.78-.78 2.05 0 2.83L4 21.41c.39.39.9.59 1.41.59.51 0 1.02-.2 1.41-.59l7.78-7.78 2.81-2.81c.8-.78.8-2.07 0-2.86zM5.41 20L4 18.59l7.72-7.72 1.47 1.35L5.41 20z\"/>\n",
              "  </svg>\n",
              "      </button>\n",
              "      \n",
              "  <style>\n",
              "    .colab-df-container {\n",
              "      display:flex;\n",
              "      flex-wrap:wrap;\n",
              "      gap: 12px;\n",
              "    }\n",
              "\n",
              "    .colab-df-convert {\n",
              "      background-color: #E8F0FE;\n",
              "      border: none;\n",
              "      border-radius: 50%;\n",
              "      cursor: pointer;\n",
              "      display: none;\n",
              "      fill: #1967D2;\n",
              "      height: 32px;\n",
              "      padding: 0 0 0 0;\n",
              "      width: 32px;\n",
              "    }\n",
              "\n",
              "    .colab-df-convert:hover {\n",
              "      background-color: #E2EBFA;\n",
              "      box-shadow: 0px 1px 2px rgba(60, 64, 67, 0.3), 0px 1px 3px 1px rgba(60, 64, 67, 0.15);\n",
              "      fill: #174EA6;\n",
              "    }\n",
              "\n",
              "    [theme=dark] .colab-df-convert {\n",
              "      background-color: #3B4455;\n",
              "      fill: #D2E3FC;\n",
              "    }\n",
              "\n",
              "    [theme=dark] .colab-df-convert:hover {\n",
              "      background-color: #434B5C;\n",
              "      box-shadow: 0px 1px 3px 1px rgba(0, 0, 0, 0.15);\n",
              "      filter: drop-shadow(0px 1px 2px rgba(0, 0, 0, 0.3));\n",
              "      fill: #FFFFFF;\n",
              "    }\n",
              "  </style>\n",
              "\n",
              "      <script>\n",
              "        const buttonEl =\n",
              "          document.querySelector('#df-71a7e12f-6c2e-4b8f-891a-48350ce52198 button.colab-df-convert');\n",
              "        buttonEl.style.display =\n",
              "          google.colab.kernel.accessAllowed ? 'block' : 'none';\n",
              "\n",
              "        async function convertToInteractive(key) {\n",
              "          const element = document.querySelector('#df-71a7e12f-6c2e-4b8f-891a-48350ce52198');\n",
              "          const dataTable =\n",
              "            await google.colab.kernel.invokeFunction('convertToInteractive',\n",
              "                                                     [key], {});\n",
              "          if (!dataTable) return;\n",
              "\n",
              "          const docLinkHtml = 'Like what you see? Visit the ' +\n",
              "            '<a target=\"_blank\" href=https://colab.research.google.com/notebooks/data_table.ipynb>data table notebook</a>'\n",
              "            + ' to learn more about interactive tables.';\n",
              "          element.innerHTML = '';\n",
              "          dataTable['output_type'] = 'display_data';\n",
              "          await google.colab.output.renderOutput(dataTable, element);\n",
              "          const docLink = document.createElement('div');\n",
              "          docLink.innerHTML = docLinkHtml;\n",
              "          element.appendChild(docLink);\n",
              "        }\n",
              "      </script>\n",
              "    </div>\n",
              "  </div>\n",
              "  "
            ]
          },
          "metadata": {},
          "execution_count": 73
        }
      ]
    },
    {
      "cell_type": "code",
      "source": [
        "cols_to_transform=['Policy_Sales_Channel']\n",
        "dummies = pd.get_dummies(train[cols_to_transform])\n",
        "train = pd.concat([train, dummies], axis=1)\n",
        "\n",
        "# drop the original categorical columns\n",
        "train.drop(cols_to_transform, axis=1, inplace=True)\n"
      ],
      "metadata": {
        "id": "Qnyx183FRnNk"
      },
      "execution_count": 74,
      "outputs": []
    },
    {
      "cell_type": "code",
      "source": [
        "train"
      ],
      "metadata": {
        "colab": {
          "base_uri": "https://localhost:8080/",
          "height": 487
        },
        "id": "dbn12wQFSdSe",
        "outputId": "a0f6bf33-4bc1-46f9-b159-ee1aabc2ddd4"
      },
      "execution_count": 75,
      "outputs": [
        {
          "output_type": "execute_result",
          "data": {
            "text/plain": [
              "        Gender  Age  Driving_License  Region_Code  Previously_Insured  \\\n",
              "0            1    2                1         28.0                   0   \n",
              "1            1    3                1          3.0                   0   \n",
              "2            1    2                1         28.0                   0   \n",
              "3            1    1                1         11.0                   1   \n",
              "4            0    1                1         41.0                   1   \n",
              "...        ...  ...              ...          ...                 ...   \n",
              "381104       1    3                1         26.0                   1   \n",
              "381105       1    1                1         37.0                   1   \n",
              "381106       1    1                1         30.0                   1   \n",
              "381107       0    3                1         14.0                   0   \n",
              "381108       1    2                1         29.0                   0   \n",
              "\n",
              "        Vehicle_Age  Vehicle_Damage  Annual_Premium  Vintage  Response  \\\n",
              "0               2.5               1         40454.0      217         1   \n",
              "1               1.5               0         33536.0      183         0   \n",
              "2               2.5               1         38294.0       27         1   \n",
              "3               0.5               0         28619.0      203         0   \n",
              "4               0.5               0         27496.0       39         0   \n",
              "...             ...             ...             ...      ...       ...   \n",
              "381104          1.5               0         30170.0       88         0   \n",
              "381105          0.5               0         40016.0      131         0   \n",
              "381106          0.5               0         35118.0      161         0   \n",
              "381107          2.5               1         44617.0       74         0   \n",
              "381108          1.5               0         41777.0      237         0   \n",
              "\n",
              "        Policy_Sales_Channel_1.0  Policy_Sales_Channel_2.0  \\\n",
              "0                              1                         0   \n",
              "1                              1                         0   \n",
              "2                              1                         0   \n",
              "3                              0                         0   \n",
              "4                              0                         0   \n",
              "...                          ...                       ...   \n",
              "381104                         1                         0   \n",
              "381105                         0                         0   \n",
              "381106                         0                         0   \n",
              "381107                         0                         1   \n",
              "381108                         1                         0   \n",
              "\n",
              "        Policy_Sales_Channel_3.0  \n",
              "0                              0  \n",
              "1                              0  \n",
              "2                              0  \n",
              "3                              1  \n",
              "4                              1  \n",
              "...                          ...  \n",
              "381104                         0  \n",
              "381105                         1  \n",
              "381106                         1  \n",
              "381107                         0  \n",
              "381108                         0  \n",
              "\n",
              "[381109 rows x 13 columns]"
            ],
            "text/html": [
              "\n",
              "  <div id=\"df-6e52980c-1803-40b6-95f7-5a2ef5828459\">\n",
              "    <div class=\"colab-df-container\">\n",
              "      <div>\n",
              "<style scoped>\n",
              "    .dataframe tbody tr th:only-of-type {\n",
              "        vertical-align: middle;\n",
              "    }\n",
              "\n",
              "    .dataframe tbody tr th {\n",
              "        vertical-align: top;\n",
              "    }\n",
              "\n",
              "    .dataframe thead th {\n",
              "        text-align: right;\n",
              "    }\n",
              "</style>\n",
              "<table border=\"1\" class=\"dataframe\">\n",
              "  <thead>\n",
              "    <tr style=\"text-align: right;\">\n",
              "      <th></th>\n",
              "      <th>Gender</th>\n",
              "      <th>Age</th>\n",
              "      <th>Driving_License</th>\n",
              "      <th>Region_Code</th>\n",
              "      <th>Previously_Insured</th>\n",
              "      <th>Vehicle_Age</th>\n",
              "      <th>Vehicle_Damage</th>\n",
              "      <th>Annual_Premium</th>\n",
              "      <th>Vintage</th>\n",
              "      <th>Response</th>\n",
              "      <th>Policy_Sales_Channel_1.0</th>\n",
              "      <th>Policy_Sales_Channel_2.0</th>\n",
              "      <th>Policy_Sales_Channel_3.0</th>\n",
              "    </tr>\n",
              "  </thead>\n",
              "  <tbody>\n",
              "    <tr>\n",
              "      <th>0</th>\n",
              "      <td>1</td>\n",
              "      <td>2</td>\n",
              "      <td>1</td>\n",
              "      <td>28.0</td>\n",
              "      <td>0</td>\n",
              "      <td>2.5</td>\n",
              "      <td>1</td>\n",
              "      <td>40454.0</td>\n",
              "      <td>217</td>\n",
              "      <td>1</td>\n",
              "      <td>1</td>\n",
              "      <td>0</td>\n",
              "      <td>0</td>\n",
              "    </tr>\n",
              "    <tr>\n",
              "      <th>1</th>\n",
              "      <td>1</td>\n",
              "      <td>3</td>\n",
              "      <td>1</td>\n",
              "      <td>3.0</td>\n",
              "      <td>0</td>\n",
              "      <td>1.5</td>\n",
              "      <td>0</td>\n",
              "      <td>33536.0</td>\n",
              "      <td>183</td>\n",
              "      <td>0</td>\n",
              "      <td>1</td>\n",
              "      <td>0</td>\n",
              "      <td>0</td>\n",
              "    </tr>\n",
              "    <tr>\n",
              "      <th>2</th>\n",
              "      <td>1</td>\n",
              "      <td>2</td>\n",
              "      <td>1</td>\n",
              "      <td>28.0</td>\n",
              "      <td>0</td>\n",
              "      <td>2.5</td>\n",
              "      <td>1</td>\n",
              "      <td>38294.0</td>\n",
              "      <td>27</td>\n",
              "      <td>1</td>\n",
              "      <td>1</td>\n",
              "      <td>0</td>\n",
              "      <td>0</td>\n",
              "    </tr>\n",
              "    <tr>\n",
              "      <th>3</th>\n",
              "      <td>1</td>\n",
              "      <td>1</td>\n",
              "      <td>1</td>\n",
              "      <td>11.0</td>\n",
              "      <td>1</td>\n",
              "      <td>0.5</td>\n",
              "      <td>0</td>\n",
              "      <td>28619.0</td>\n",
              "      <td>203</td>\n",
              "      <td>0</td>\n",
              "      <td>0</td>\n",
              "      <td>0</td>\n",
              "      <td>1</td>\n",
              "    </tr>\n",
              "    <tr>\n",
              "      <th>4</th>\n",
              "      <td>0</td>\n",
              "      <td>1</td>\n",
              "      <td>1</td>\n",
              "      <td>41.0</td>\n",
              "      <td>1</td>\n",
              "      <td>0.5</td>\n",
              "      <td>0</td>\n",
              "      <td>27496.0</td>\n",
              "      <td>39</td>\n",
              "      <td>0</td>\n",
              "      <td>0</td>\n",
              "      <td>0</td>\n",
              "      <td>1</td>\n",
              "    </tr>\n",
              "    <tr>\n",
              "      <th>...</th>\n",
              "      <td>...</td>\n",
              "      <td>...</td>\n",
              "      <td>...</td>\n",
              "      <td>...</td>\n",
              "      <td>...</td>\n",
              "      <td>...</td>\n",
              "      <td>...</td>\n",
              "      <td>...</td>\n",
              "      <td>...</td>\n",
              "      <td>...</td>\n",
              "      <td>...</td>\n",
              "      <td>...</td>\n",
              "      <td>...</td>\n",
              "    </tr>\n",
              "    <tr>\n",
              "      <th>381104</th>\n",
              "      <td>1</td>\n",
              "      <td>3</td>\n",
              "      <td>1</td>\n",
              "      <td>26.0</td>\n",
              "      <td>1</td>\n",
              "      <td>1.5</td>\n",
              "      <td>0</td>\n",
              "      <td>30170.0</td>\n",
              "      <td>88</td>\n",
              "      <td>0</td>\n",
              "      <td>1</td>\n",
              "      <td>0</td>\n",
              "      <td>0</td>\n",
              "    </tr>\n",
              "    <tr>\n",
              "      <th>381105</th>\n",
              "      <td>1</td>\n",
              "      <td>1</td>\n",
              "      <td>1</td>\n",
              "      <td>37.0</td>\n",
              "      <td>1</td>\n",
              "      <td>0.5</td>\n",
              "      <td>0</td>\n",
              "      <td>40016.0</td>\n",
              "      <td>131</td>\n",
              "      <td>0</td>\n",
              "      <td>0</td>\n",
              "      <td>0</td>\n",
              "      <td>1</td>\n",
              "    </tr>\n",
              "    <tr>\n",
              "      <th>381106</th>\n",
              "      <td>1</td>\n",
              "      <td>1</td>\n",
              "      <td>1</td>\n",
              "      <td>30.0</td>\n",
              "      <td>1</td>\n",
              "      <td>0.5</td>\n",
              "      <td>0</td>\n",
              "      <td>35118.0</td>\n",
              "      <td>161</td>\n",
              "      <td>0</td>\n",
              "      <td>0</td>\n",
              "      <td>0</td>\n",
              "      <td>1</td>\n",
              "    </tr>\n",
              "    <tr>\n",
              "      <th>381107</th>\n",
              "      <td>0</td>\n",
              "      <td>3</td>\n",
              "      <td>1</td>\n",
              "      <td>14.0</td>\n",
              "      <td>0</td>\n",
              "      <td>2.5</td>\n",
              "      <td>1</td>\n",
              "      <td>44617.0</td>\n",
              "      <td>74</td>\n",
              "      <td>0</td>\n",
              "      <td>0</td>\n",
              "      <td>1</td>\n",
              "      <td>0</td>\n",
              "    </tr>\n",
              "    <tr>\n",
              "      <th>381108</th>\n",
              "      <td>1</td>\n",
              "      <td>2</td>\n",
              "      <td>1</td>\n",
              "      <td>29.0</td>\n",
              "      <td>0</td>\n",
              "      <td>1.5</td>\n",
              "      <td>0</td>\n",
              "      <td>41777.0</td>\n",
              "      <td>237</td>\n",
              "      <td>0</td>\n",
              "      <td>1</td>\n",
              "      <td>0</td>\n",
              "      <td>0</td>\n",
              "    </tr>\n",
              "  </tbody>\n",
              "</table>\n",
              "<p>381109 rows × 13 columns</p>\n",
              "</div>\n",
              "      <button class=\"colab-df-convert\" onclick=\"convertToInteractive('df-6e52980c-1803-40b6-95f7-5a2ef5828459')\"\n",
              "              title=\"Convert this dataframe to an interactive table.\"\n",
              "              style=\"display:none;\">\n",
              "        \n",
              "  <svg xmlns=\"http://www.w3.org/2000/svg\" height=\"24px\"viewBox=\"0 0 24 24\"\n",
              "       width=\"24px\">\n",
              "    <path d=\"M0 0h24v24H0V0z\" fill=\"none\"/>\n",
              "    <path d=\"M18.56 5.44l.94 2.06.94-2.06 2.06-.94-2.06-.94-.94-2.06-.94 2.06-2.06.94zm-11 1L8.5 8.5l.94-2.06 2.06-.94-2.06-.94L8.5 2.5l-.94 2.06-2.06.94zm10 10l.94 2.06.94-2.06 2.06-.94-2.06-.94-.94-2.06-.94 2.06-2.06.94z\"/><path d=\"M17.41 7.96l-1.37-1.37c-.4-.4-.92-.59-1.43-.59-.52 0-1.04.2-1.43.59L10.3 9.45l-7.72 7.72c-.78.78-.78 2.05 0 2.83L4 21.41c.39.39.9.59 1.41.59.51 0 1.02-.2 1.41-.59l7.78-7.78 2.81-2.81c.8-.78.8-2.07 0-2.86zM5.41 20L4 18.59l7.72-7.72 1.47 1.35L5.41 20z\"/>\n",
              "  </svg>\n",
              "      </button>\n",
              "      \n",
              "  <style>\n",
              "    .colab-df-container {\n",
              "      display:flex;\n",
              "      flex-wrap:wrap;\n",
              "      gap: 12px;\n",
              "    }\n",
              "\n",
              "    .colab-df-convert {\n",
              "      background-color: #E8F0FE;\n",
              "      border: none;\n",
              "      border-radius: 50%;\n",
              "      cursor: pointer;\n",
              "      display: none;\n",
              "      fill: #1967D2;\n",
              "      height: 32px;\n",
              "      padding: 0 0 0 0;\n",
              "      width: 32px;\n",
              "    }\n",
              "\n",
              "    .colab-df-convert:hover {\n",
              "      background-color: #E2EBFA;\n",
              "      box-shadow: 0px 1px 2px rgba(60, 64, 67, 0.3), 0px 1px 3px 1px rgba(60, 64, 67, 0.15);\n",
              "      fill: #174EA6;\n",
              "    }\n",
              "\n",
              "    [theme=dark] .colab-df-convert {\n",
              "      background-color: #3B4455;\n",
              "      fill: #D2E3FC;\n",
              "    }\n",
              "\n",
              "    [theme=dark] .colab-df-convert:hover {\n",
              "      background-color: #434B5C;\n",
              "      box-shadow: 0px 1px 3px 1px rgba(0, 0, 0, 0.15);\n",
              "      filter: drop-shadow(0px 1px 2px rgba(0, 0, 0, 0.3));\n",
              "      fill: #FFFFFF;\n",
              "    }\n",
              "  </style>\n",
              "\n",
              "      <script>\n",
              "        const buttonEl =\n",
              "          document.querySelector('#df-6e52980c-1803-40b6-95f7-5a2ef5828459 button.colab-df-convert');\n",
              "        buttonEl.style.display =\n",
              "          google.colab.kernel.accessAllowed ? 'block' : 'none';\n",
              "\n",
              "        async function convertToInteractive(key) {\n",
              "          const element = document.querySelector('#df-6e52980c-1803-40b6-95f7-5a2ef5828459');\n",
              "          const dataTable =\n",
              "            await google.colab.kernel.invokeFunction('convertToInteractive',\n",
              "                                                     [key], {});\n",
              "          if (!dataTable) return;\n",
              "\n",
              "          const docLinkHtml = 'Like what you see? Visit the ' +\n",
              "            '<a target=\"_blank\" href=https://colab.research.google.com/notebooks/data_table.ipynb>data table notebook</a>'\n",
              "            + ' to learn more about interactive tables.';\n",
              "          element.innerHTML = '';\n",
              "          dataTable['output_type'] = 'display_data';\n",
              "          await google.colab.output.renderOutput(dataTable, element);\n",
              "          const docLink = document.createElement('div');\n",
              "          docLink.innerHTML = docLinkHtml;\n",
              "          element.appendChild(docLink);\n",
              "        }\n",
              "      </script>\n",
              "    </div>\n",
              "  </div>\n",
              "  "
            ]
          },
          "metadata": {},
          "execution_count": 75
        }
      ]
    },
    {
      "cell_type": "markdown",
      "source": [
        "It is clear that the distribution is not normal therefore we use min max scalar\n"
      ],
      "metadata": {
        "id": "DuEfob4FdEv4"
      }
    },
    {
      "cell_type": "code",
      "source": [
        "from sklearn.preprocessing import MinMaxScaler\n",
        "mm = MinMaxScaler()\n",
        "train[['Annual_Premium']] = mm.fit_transform(train[['Annual_Premium']])\n",
        "train[['Region_Code']] = mm.fit_transform(train[['Region_Code']])\n",
        "train[['Vintage']] = mm.fit_transform(train[['Vintage']])"
      ],
      "metadata": {
        "id": "cgDBtQhMb747"
      },
      "execution_count": 76,
      "outputs": []
    },
    {
      "cell_type": "markdown",
      "source": [
        "Data Splitting for training"
      ],
      "metadata": {
        "id": "FTbgi5C8eMKJ"
      }
    },
    {
      "cell_type": "code",
      "source": [
        "X=train.drop(['Response'],axis=1)\n",
        "y=train['Response']"
      ],
      "metadata": {
        "id": "ji6P_VNUddBy"
      },
      "execution_count": 77,
      "outputs": []
    },
    {
      "cell_type": "markdown",
      "source": [
        "Over sample"
      ],
      "metadata": {
        "id": "R5vO4ikZ8xo5"
      }
    },
    {
      "cell_type": "code",
      "source": [],
      "metadata": {
        "id": "6H3XI0PZ8zou"
      },
      "execution_count": 77,
      "outputs": []
    },
    {
      "cell_type": "code",
      "source": [
        "from sklearn.model_selection import train_test_split\n",
        "x_train,x_test,y_train,y_test = train_test_split(X,y, random_state = 0)"
      ],
      "metadata": {
        "id": "aBz9uUT2d1rw"
      },
      "execution_count": 78,
      "outputs": []
    },
    {
      "cell_type": "code",
      "source": [
        "from imblearn.over_sampling import SMOTE\n",
        "sm = SMOTE(random_state = 2)\n",
        "x_train, y_train = sm.fit_resample(x_train, y_train)"
      ],
      "metadata": {
        "id": "htlvtjAu9TU-"
      },
      "execution_count": 79,
      "outputs": []
    },
    {
      "cell_type": "markdown",
      "source": [
        "Model Building"
      ],
      "metadata": {
        "id": "B4RPJmtoeJ3Z"
      }
    },
    {
      "cell_type": "markdown",
      "source": [
        "Logistic Regression"
      ],
      "metadata": {
        "id": "20qyZDX96gfq"
      }
    },
    {
      "cell_type": "code",
      "source": [
        "from sklearn.linear_model import LogisticRegression\n",
        "lg = LogisticRegression()\n",
        "lg.fit(x_train, y_train)\n",
        "y_pred=lg.predict_proba(x_test)"
      ],
      "metadata": {
        "id": "MNCkkIjk6io-"
      },
      "execution_count": 205,
      "outputs": []
    },
    {
      "cell_type": "code",
      "source": [
        "\n",
        "y_pred_val=[]\n",
        "for i in y_pred:\n",
        "  if(i[1]>0.65):\n",
        "    y_pred_val.append(1)\n",
        "  else:\n",
        "    y_pred_val.append(0)\n",
        "from sklearn.metrics import classification_report\n",
        "print(classification_report(y_test, y_pred_val))"
      ],
      "metadata": {
        "colab": {
          "base_uri": "https://localhost:8080/"
        },
        "id": "rtGIpw8P6mNP",
        "outputId": "726cd51f-8e54-452a-ae6e-df221fa21adf"
      },
      "execution_count": 206,
      "outputs": [
        {
          "output_type": "stream",
          "name": "stdout",
          "text": [
            "              precision    recall  f1-score   support\n",
            "\n",
            "           0       0.96      0.72      0.82     83603\n",
            "           1       0.29      0.80      0.42     11675\n",
            "\n",
            "    accuracy                           0.73     95278\n",
            "   macro avg       0.62      0.76      0.62     95278\n",
            "weighted avg       0.88      0.73      0.77     95278\n",
            "\n"
          ]
        }
      ]
    },
    {
      "cell_type": "code",
      "source": [
        " from sklearn.metrics import confusion_matrix\n",
        " confusion_matrix(y_test, y_pred_val)"
      ],
      "metadata": {
        "colab": {
          "base_uri": "https://localhost:8080/"
        },
        "id": "_5DKv72N6pau",
        "outputId": "e6deb2d7-7802-465f-9d97-5efedb741e21"
      },
      "execution_count": 207,
      "outputs": [
        {
          "output_type": "execute_result",
          "data": {
            "text/plain": [
              "array([[60201, 23402],\n",
              "       [ 2327,  9348]])"
            ]
          },
          "metadata": {},
          "execution_count": 207
        }
      ]
    },
    {
      "cell_type": "code",
      "source": [
        "from sklearn import metrics\n",
        "fpr, tpr, _ = metrics.roc_curve(y_test, y_pred[:,1])\n",
        "auc = round(metrics.roc_auc_score(y_test, y_pred[:,1]), 4)\n",
        "plt.plot(fpr,tpr,label=\"Gradient Boosting, AUC=\"+str(auc))\n",
        "\n",
        "#add legend\n",
        "plt.legend()"
      ],
      "metadata": {
        "colab": {
          "base_uri": "https://localhost:8080/",
          "height": 282
        },
        "id": "Epa8Hs1-VGcN",
        "outputId": "6dade4dd-ba85-4d32-9863-751a3d3fd0ec"
      },
      "execution_count": 209,
      "outputs": [
        {
          "output_type": "execute_result",
          "data": {
            "text/plain": [
              "<matplotlib.legend.Legend at 0x7feef8fb95b0>"
            ]
          },
          "metadata": {},
          "execution_count": 209
        },
        {
          "output_type": "display_data",
          "data": {
            "text/plain": [
              "<Figure size 432x288 with 1 Axes>"
            ],
            "image/png": "[encoded data removed]"
          },
          "metadata": {
            "needs_background": "light"
          }
        }
      ]
    },
    {
      "cell_type": "markdown",
      "source": [
        "Random Forest"
      ],
      "metadata": {
        "id": "QvWfcw2j3edA"
      }
    },
    {
      "cell_type": "code",
      "source": [
        "from sklearn.ensemble import RandomForestClassifier"
      ],
      "metadata": {
        "id": "3Nm1Y808yQpQ"
      },
      "execution_count": 210,
      "outputs": []
    },
    {
      "cell_type": "code",
      "source": [
        "clf = RandomForestClassifier()\n",
        "clf.fit(x_train, y_train)\n",
        "y_pred=clf.predict_proba(x_test)"
      ],
      "metadata": {
        "id": "9uPhOftBysrt"
      },
      "execution_count": 211,
      "outputs": []
    },
    {
      "cell_type": "code",
      "source": [
        "y_pred_val=[]\n",
        "for i in y_pred:\n",
        "  if(i[1]>0.25):\n",
        "    y_pred_val.append(1)\n",
        "  else:\n",
        "    y_pred_val.append(0)"
      ],
      "metadata": {
        "id": "q14lfvslz3r1"
      },
      "execution_count": 212,
      "outputs": []
    },
    {
      "cell_type": "code",
      "source": [
        " from sklearn.metrics import confusion_matrix\n",
        " confusion_matrix(y_test, y_pred_val)"
      ],
      "metadata": {
        "colab": {
          "base_uri": "https://localhost:8080/"
        },
        "id": "pY_GXlKQzZDu",
        "outputId": "c1a721b1-da88-496d-d00b-1351565e74cc"
      },
      "execution_count": 213,
      "outputs": [
        {
          "output_type": "execute_result",
          "data": {
            "text/plain": [
              "array([[58786, 24817],\n",
              "       [ 2479,  9196]])"
            ]
          },
          "metadata": {},
          "execution_count": 213
        }
      ]
    },
    {
      "cell_type": "code",
      "source": [
        " from sklearn.metrics import classification_report\n",
        " print(classification_report(y_test, y_pred_val))"
      ],
      "metadata": {
        "colab": {
          "base_uri": "https://localhost:8080/"
        },
        "id": "RDWVaKIkzelt",
        "outputId": "da3b1130-753f-4d46-c4ef-4c40269e2a92"
      },
      "execution_count": 214,
      "outputs": [
        {
          "output_type": "stream",
          "name": "stdout",
          "text": [
            "              precision    recall  f1-score   support\n",
            "\n",
            "           0       0.96      0.70      0.81     83603\n",
            "           1       0.27      0.79      0.40     11675\n",
            "\n",
            "    accuracy                           0.71     95278\n",
            "   macro avg       0.61      0.75      0.61     95278\n",
            "weighted avg       0.88      0.71      0.76     95278\n",
            "\n"
          ]
        }
      ]
    },
    {
      "cell_type": "code",
      "source": [
        "from sklearn import metrics\n",
        "fpr, tpr, _ = metrics.roc_curve(y_test, y_pred[:,1])\n",
        "auc = round(metrics.roc_auc_score(y_test, y_pred[:,1]), 4)\n",
        "plt.plot(fpr,tpr,label=\"Gradient Boosting, AUC=\"+str(auc))\n",
        "\n",
        "#add legend\n",
        "plt.legend()"
      ],
      "metadata": {
        "colab": {
          "base_uri": "https://localhost:8080/",
          "height": 282
        },
        "id": "XhufWutzVdkm",
        "outputId": "eb5ffce7-9953-45cd-dba3-a1a9d7135d25"
      },
      "execution_count": 215,
      "outputs": [
        {
          "output_type": "execute_result",
          "data": {
            "text/plain": [
              "<matplotlib.legend.Legend at 0x7feef8a12be0>"
            ]
          },
          "metadata": {},
          "execution_count": 215
        },
        {
          "output_type": "display_data",
          "data": {
            "text/plain": [
              "<Figure size 432x288 with 1 Axes>"
            ],
            "image/png": "[encoded data removed]"
          },
          "metadata": {
            "needs_background": "light"
          }
        }
      ]
    },
    {
      "cell_type": "markdown",
      "source": [
        "XgBoost"
      ],
      "metadata": {
        "id": "_X9U2ucm3gqK"
      }
    },
    {
      "cell_type": "code",
      "source": [
        "from xgboost import XGBClassifier\n",
        "clf = XGBClassifier()\n",
        "clf.fit(x_train, y_train)\n",
        "y_pred=clf.predict_proba(x_test)"
      ],
      "metadata": {
        "id": "r94Yr85l30tu"
      },
      "execution_count": 216,
      "outputs": []
    },
    {
      "cell_type": "code",
      "source": [
        "y_pred_val=[]\n",
        "for i in y_pred:\n",
        "  if(i[1]>0.45):\n",
        "    y_pred_val.append(1)\n",
        "  else:\n",
        "    y_pred_val.append(0)\n",
        "from sklearn.metrics import classification_report\n",
        "print(classification_report(y_test, y_pred_val))"
      ],
      "metadata": {
        "colab": {
          "base_uri": "https://localhost:8080/"
        },
        "id": "V3PK6-BJ53l8",
        "outputId": "c04cae7a-178a-460b-85e9-9204ab4fb5d7"
      },
      "execution_count": 217,
      "outputs": [
        {
          "output_type": "stream",
          "name": "stdout",
          "text": [
            "              precision    recall  f1-score   support\n",
            "\n",
            "           0       0.96      0.74      0.83     83603\n",
            "           1       0.30      0.79      0.43     11675\n",
            "\n",
            "    accuracy                           0.74     95278\n",
            "   macro avg       0.63      0.76      0.63     95278\n",
            "weighted avg       0.88      0.74      0.78     95278\n",
            "\n"
          ]
        }
      ]
    },
    {
      "cell_type": "code",
      "source": [
        " from sklearn.metrics import confusion_matrix\n",
        " confusion_matrix(y_test, y_pred_val)"
      ],
      "metadata": {
        "colab": {
          "base_uri": "https://localhost:8080/"
        },
        "id": "WIk0_rhy6Ctg",
        "outputId": "09e6ef6d-4309-4895-bcf4-fdaa49e5c807"
      },
      "execution_count": 218,
      "outputs": [
        {
          "output_type": "execute_result",
          "data": {
            "text/plain": [
              "array([[61491, 22112],\n",
              "       [ 2416,  9259]])"
            ]
          },
          "metadata": {},
          "execution_count": 218
        }
      ]
    },
    {
      "cell_type": "code",
      "source": [
        "from sklearn import metrics\n",
        "fpr, tpr, _ = metrics.roc_curve(y_test, y_pred[:,1])\n",
        "auc = round(metrics.roc_auc_score(y_test, y_pred[:,1]), 4)\n",
        "plt.plot(fpr,tpr,label=\"Gradient Boosting, AUC=\"+str(auc))\n",
        "\n",
        "#add legend\n",
        "plt.legend()"
      ],
      "metadata": {
        "colab": {
          "base_uri": "https://localhost:8080/",
          "height": 282
        },
        "id": "GBm8ohG5VlLQ",
        "outputId": "97eb95c7-21af-4f2b-ae05-30b4649ca7f6"
      },
      "execution_count": 219,
      "outputs": [
        {
          "output_type": "execute_result",
          "data": {
            "text/plain": [
              "<matplotlib.legend.Legend at 0x7feef9061e50>"
            ]
          },
          "metadata": {},
          "execution_count": 219
        },
        {
          "output_type": "display_data",
          "data": {
            "text/plain": [
              "<Figure size 432x288 with 1 Axes>"
            ],
            "image/png": "[encoded data removed]"
          },
          "metadata": {
            "needs_background": "light"
          }
        }
      ]
    },
    {
      "cell_type": "markdown",
      "source": [
        "Xgboost and Logistic Regression performed well. Therefore we try to Calibrate those models"
      ],
      "metadata": {
        "id": "uobz_H4LD3TD"
      }
    },
    {
      "cell_type": "markdown",
      "source": [
        "SInce Logistic Regression model is simpler and robust,"
      ],
      "metadata": {
        "id": "p9tk7PnzUxhc"
      }
    }
  ]
}